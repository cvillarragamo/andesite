{
 "cells": [
  {
   "cell_type": "code",
   "execution_count": 48,
   "metadata": {},
   "outputs": [],
   "source": [
    "import pandas as pd\n",
    "from sklearn.preprocessing import StandardScaler\n",
    "\n",
    "df_filtered = pd.read_csv(r'data\\truck_loader_day.csv')\n",
    "df_filtered['date']=pd.to_datetime(df_filtered['date'])\n",
    "# Seleccionar las columnas relevantes\n",
    "columnas_hdbscan = ['ton', 'n_shovel', 'truck_total_cycle', 'distance_empty', 'distance_full','trips']\n",
    "df_hdbscan = df_filtered[columnas_hdbscan]\n"
   ]
  },
  {
   "cell_type": "code",
   "execution_count": 75,
   "metadata": {},
   "outputs": [
    {
     "data": {
      "text/plain": [
       "Index(['Unnamed: 0', 'truck', 'loader', 'date', 'ton', 'n_shovel',\n",
       "       'truck_total_cycle', 'loader_total_cycle', 'distance_empty',\n",
       "       'distance_full', 'trips', 'cluster'],\n",
       "      dtype='object')"
      ]
     },
     "execution_count": 75,
     "metadata": {},
     "output_type": "execute_result"
    }
   ],
   "source": [
    "df_filtered.columns"
   ]
  },
  {
   "cell_type": "code",
   "execution_count": 49,
   "metadata": {},
   "outputs": [
    {
     "data": {
      "text/html": [
       "<div>\n",
       "<style scoped>\n",
       "    .dataframe tbody tr th:only-of-type {\n",
       "        vertical-align: middle;\n",
       "    }\n",
       "\n",
       "    .dataframe tbody tr th {\n",
       "        vertical-align: top;\n",
       "    }\n",
       "\n",
       "    .dataframe thead th {\n",
       "        text-align: right;\n",
       "    }\n",
       "</style>\n",
       "<table border=\"1\" class=\"dataframe\">\n",
       "  <thead>\n",
       "    <tr style=\"text-align: right;\">\n",
       "      <th></th>\n",
       "      <th>ton</th>\n",
       "      <th>n_shovel</th>\n",
       "      <th>truck_total_cycle</th>\n",
       "      <th>distance_empty</th>\n",
       "      <th>distance_full</th>\n",
       "      <th>trips</th>\n",
       "    </tr>\n",
       "  </thead>\n",
       "  <tbody>\n",
       "    <tr>\n",
       "      <th>0</th>\n",
       "      <td>2110.433067</td>\n",
       "      <td>22.0</td>\n",
       "      <td>15169.0</td>\n",
       "      <td>37793.0</td>\n",
       "      <td>35087.0</td>\n",
       "      <td>7</td>\n",
       "    </tr>\n",
       "    <tr>\n",
       "      <th>1</th>\n",
       "      <td>3452.522876</td>\n",
       "      <td>35.0</td>\n",
       "      <td>19850.0</td>\n",
       "      <td>60107.0</td>\n",
       "      <td>53491.0</td>\n",
       "      <td>11</td>\n",
       "    </tr>\n",
       "    <tr>\n",
       "      <th>2</th>\n",
       "      <td>1351.985109</td>\n",
       "      <td>17.0</td>\n",
       "      <td>7588.0</td>\n",
       "      <td>20312.0</td>\n",
       "      <td>16106.0</td>\n",
       "      <td>4</td>\n",
       "    </tr>\n",
       "    <tr>\n",
       "      <th>3</th>\n",
       "      <td>1017.801653</td>\n",
       "      <td>12.0</td>\n",
       "      <td>6431.0</td>\n",
       "      <td>21696.0</td>\n",
       "      <td>17704.0</td>\n",
       "      <td>3</td>\n",
       "    </tr>\n",
       "    <tr>\n",
       "      <th>4</th>\n",
       "      <td>1551.033398</td>\n",
       "      <td>19.0</td>\n",
       "      <td>9878.0</td>\n",
       "      <td>28117.0</td>\n",
       "      <td>25855.0</td>\n",
       "      <td>5</td>\n",
       "    </tr>\n",
       "    <tr>\n",
       "      <th>...</th>\n",
       "      <td>...</td>\n",
       "      <td>...</td>\n",
       "      <td>...</td>\n",
       "      <td>...</td>\n",
       "      <td>...</td>\n",
       "      <td>...</td>\n",
       "    </tr>\n",
       "    <tr>\n",
       "      <th>59320</th>\n",
       "      <td>3413.993213</td>\n",
       "      <td>40.0</td>\n",
       "      <td>24039.0</td>\n",
       "      <td>58868.0</td>\n",
       "      <td>65874.0</td>\n",
       "      <td>11</td>\n",
       "    </tr>\n",
       "    <tr>\n",
       "      <th>59321</th>\n",
       "      <td>2169.387982</td>\n",
       "      <td>22.0</td>\n",
       "      <td>13015.0</td>\n",
       "      <td>34824.0</td>\n",
       "      <td>34734.0</td>\n",
       "      <td>7</td>\n",
       "    </tr>\n",
       "    <tr>\n",
       "      <th>59322</th>\n",
       "      <td>954.438321</td>\n",
       "      <td>11.0</td>\n",
       "      <td>5403.0</td>\n",
       "      <td>24203.0</td>\n",
       "      <td>13845.0</td>\n",
       "      <td>3</td>\n",
       "    </tr>\n",
       "    <tr>\n",
       "      <th>59323</th>\n",
       "      <td>9541.728748</td>\n",
       "      <td>107.0</td>\n",
       "      <td>54179.0</td>\n",
       "      <td>165151.0</td>\n",
       "      <td>141173.0</td>\n",
       "      <td>30</td>\n",
       "    </tr>\n",
       "    <tr>\n",
       "      <th>59324</th>\n",
       "      <td>3771.930179</td>\n",
       "      <td>39.0</td>\n",
       "      <td>22382.0</td>\n",
       "      <td>65144.0</td>\n",
       "      <td>56525.0</td>\n",
       "      <td>12</td>\n",
       "    </tr>\n",
       "  </tbody>\n",
       "</table>\n",
       "<p>59325 rows × 6 columns</p>\n",
       "</div>"
      ],
      "text/plain": [
       "               ton  n_shovel  truck_total_cycle  distance_empty   \n",
       "0      2110.433067      22.0            15169.0         37793.0  \\\n",
       "1      3452.522876      35.0            19850.0         60107.0   \n",
       "2      1351.985109      17.0             7588.0         20312.0   \n",
       "3      1017.801653      12.0             6431.0         21696.0   \n",
       "4      1551.033398      19.0             9878.0         28117.0   \n",
       "...            ...       ...                ...             ...   \n",
       "59320  3413.993213      40.0            24039.0         58868.0   \n",
       "59321  2169.387982      22.0            13015.0         34824.0   \n",
       "59322   954.438321      11.0             5403.0         24203.0   \n",
       "59323  9541.728748     107.0            54179.0        165151.0   \n",
       "59324  3771.930179      39.0            22382.0         65144.0   \n",
       "\n",
       "       distance_full  trips  \n",
       "0            35087.0      7  \n",
       "1            53491.0     11  \n",
       "2            16106.0      4  \n",
       "3            17704.0      3  \n",
       "4            25855.0      5  \n",
       "...              ...    ...  \n",
       "59320        65874.0     11  \n",
       "59321        34734.0      7  \n",
       "59322        13845.0      3  \n",
       "59323       141173.0     30  \n",
       "59324        56525.0     12  \n",
       "\n",
       "[59325 rows x 6 columns]"
      ]
     },
     "execution_count": 49,
     "metadata": {},
     "output_type": "execute_result"
    }
   ],
   "source": [
    "df_hdbscan"
   ]
  },
  {
   "cell_type": "code",
   "execution_count": null,
   "metadata": {},
   "outputs": [
    {
     "data": {
      "text/plain": [
       "array([[ 1.12184390e-01,  1.14581649e-01,  1.26245881e-01,\n",
       "         1.48670420e-02,  2.93237908e-03,  1.87862610e-01],\n",
       "       [ 9.88552442e-01,  9.27791232e-01,  5.68147251e-01,\n",
       "         8.02579018e-01,  6.77383083e-01,  1.01924952e+00],\n",
       "       [-3.83072749e-01, -1.98191267e-01, -5.89424763e-01,\n",
       "        -6.02234018e-01, -6.92663622e-01, -4.35677570e-01],\n",
       "       ...,\n",
       "       [-6.42665886e-01, -5.73518767e-01, -7.95695750e-01,\n",
       "        -4.64876874e-01, -7.75522405e-01, -6.43524296e-01],\n",
       "       [ 4.96472859e+00,  5.43172123e+00,  3.80891463e+00,\n",
       "         4.51076297e+00,  3.89066208e+00,  4.96833732e+00],\n",
       "       [ 1.19712146e+00,  1.17800957e+00,  8.07176148e-01,\n",
       "         9.80391388e-01,  7.88569968e-01,  1.22709624e+00]])"
      ]
     },
     "execution_count": 50,
     "metadata": {},
     "output_type": "execute_result"
    }
   ],
   "source": [
    "# Estandarizar los datos\n",
    "scaler = StandardScaler()\n",
    "df_hdbscan_scaled = scaler.fit_transform(df_hdbscan)\n"
   ]
  },
  {
   "cell_type": "code",
   "execution_count": 52,
   "metadata": {},
   "outputs": [
    {
     "data": {
      "text/html": [
       "<div>\n",
       "<style scoped>\n",
       "    .dataframe tbody tr th:only-of-type {\n",
       "        vertical-align: middle;\n",
       "    }\n",
       "\n",
       "    .dataframe tbody tr th {\n",
       "        vertical-align: top;\n",
       "    }\n",
       "\n",
       "    .dataframe thead th {\n",
       "        text-align: right;\n",
       "    }\n",
       "</style>\n",
       "<table border=\"1\" class=\"dataframe\">\n",
       "  <thead>\n",
       "    <tr style=\"text-align: right;\">\n",
       "      <th></th>\n",
       "      <th>Unnamed: 0</th>\n",
       "      <th>truck</th>\n",
       "      <th>loader</th>\n",
       "      <th>date</th>\n",
       "      <th>ton</th>\n",
       "      <th>n_shovel</th>\n",
       "      <th>truck_total_cycle</th>\n",
       "      <th>loader_total_cycle</th>\n",
       "      <th>distance_empty</th>\n",
       "      <th>distance_full</th>\n",
       "      <th>trips</th>\n",
       "      <th>cluster</th>\n",
       "    </tr>\n",
       "  </thead>\n",
       "  <tbody>\n",
       "    <tr>\n",
       "      <th>0</th>\n",
       "      <td>0</td>\n",
       "      <td>CAEX01</td>\n",
       "      <td>PH06</td>\n",
       "      <td>2023-01-01</td>\n",
       "      <td>2110.433067</td>\n",
       "      <td>22.0</td>\n",
       "      <td>15169.0</td>\n",
       "      <td>2278.0</td>\n",
       "      <td>37793.0</td>\n",
       "      <td>35087.0</td>\n",
       "      <td>7</td>\n",
       "      <td>7</td>\n",
       "    </tr>\n",
       "    <tr>\n",
       "      <th>1</th>\n",
       "      <td>1</td>\n",
       "      <td>CAEX01</td>\n",
       "      <td>PH06</td>\n",
       "      <td>2023-01-02</td>\n",
       "      <td>3452.522876</td>\n",
       "      <td>35.0</td>\n",
       "      <td>19850.0</td>\n",
       "      <td>3199.0</td>\n",
       "      <td>60107.0</td>\n",
       "      <td>53491.0</td>\n",
       "      <td>11</td>\n",
       "      <td>8</td>\n",
       "    </tr>\n",
       "    <tr>\n",
       "      <th>2</th>\n",
       "      <td>2</td>\n",
       "      <td>CAEX01</td>\n",
       "      <td>PH06</td>\n",
       "      <td>2023-01-03</td>\n",
       "      <td>1351.985109</td>\n",
       "      <td>17.0</td>\n",
       "      <td>7588.0</td>\n",
       "      <td>1755.0</td>\n",
       "      <td>20312.0</td>\n",
       "      <td>16106.0</td>\n",
       "      <td>4</td>\n",
       "      <td>5</td>\n",
       "    </tr>\n",
       "    <tr>\n",
       "      <th>3</th>\n",
       "      <td>3</td>\n",
       "      <td>CAEX01</td>\n",
       "      <td>PH06</td>\n",
       "      <td>2023-01-04</td>\n",
       "      <td>1017.801653</td>\n",
       "      <td>12.0</td>\n",
       "      <td>6431.0</td>\n",
       "      <td>777.0</td>\n",
       "      <td>21696.0</td>\n",
       "      <td>17704.0</td>\n",
       "      <td>3</td>\n",
       "      <td>3</td>\n",
       "    </tr>\n",
       "    <tr>\n",
       "      <th>4</th>\n",
       "      <td>4</td>\n",
       "      <td>CAEX01</td>\n",
       "      <td>PH06</td>\n",
       "      <td>2023-01-05</td>\n",
       "      <td>1551.033398</td>\n",
       "      <td>19.0</td>\n",
       "      <td>9878.0</td>\n",
       "      <td>1556.0</td>\n",
       "      <td>28117.0</td>\n",
       "      <td>25855.0</td>\n",
       "      <td>5</td>\n",
       "      <td>4</td>\n",
       "    </tr>\n",
       "    <tr>\n",
       "      <th>...</th>\n",
       "      <td>...</td>\n",
       "      <td>...</td>\n",
       "      <td>...</td>\n",
       "      <td>...</td>\n",
       "      <td>...</td>\n",
       "      <td>...</td>\n",
       "      <td>...</td>\n",
       "      <td>...</td>\n",
       "      <td>...</td>\n",
       "      <td>...</td>\n",
       "      <td>...</td>\n",
       "      <td>...</td>\n",
       "    </tr>\n",
       "    <tr>\n",
       "      <th>59320</th>\n",
       "      <td>59320</td>\n",
       "      <td>CAEX98</td>\n",
       "      <td>PH58</td>\n",
       "      <td>2024-05-20</td>\n",
       "      <td>3413.993213</td>\n",
       "      <td>40.0</td>\n",
       "      <td>24039.0</td>\n",
       "      <td>2785.0</td>\n",
       "      <td>58868.0</td>\n",
       "      <td>65874.0</td>\n",
       "      <td>11</td>\n",
       "      <td>-1</td>\n",
       "    </tr>\n",
       "    <tr>\n",
       "      <th>59321</th>\n",
       "      <td>59321</td>\n",
       "      <td>CAEX98</td>\n",
       "      <td>PH58</td>\n",
       "      <td>2024-05-21</td>\n",
       "      <td>2169.387982</td>\n",
       "      <td>22.0</td>\n",
       "      <td>13015.0</td>\n",
       "      <td>1954.0</td>\n",
       "      <td>34824.0</td>\n",
       "      <td>34734.0</td>\n",
       "      <td>7</td>\n",
       "      <td>7</td>\n",
       "    </tr>\n",
       "    <tr>\n",
       "      <th>59322</th>\n",
       "      <td>59322</td>\n",
       "      <td>CAEX98</td>\n",
       "      <td>PH58</td>\n",
       "      <td>2024-05-22</td>\n",
       "      <td>954.438321</td>\n",
       "      <td>11.0</td>\n",
       "      <td>5403.0</td>\n",
       "      <td>996.0</td>\n",
       "      <td>24203.0</td>\n",
       "      <td>13845.0</td>\n",
       "      <td>3</td>\n",
       "      <td>3</td>\n",
       "    </tr>\n",
       "    <tr>\n",
       "      <th>59323</th>\n",
       "      <td>59323</td>\n",
       "      <td>CAEX98</td>\n",
       "      <td>PH58</td>\n",
       "      <td>2024-05-23</td>\n",
       "      <td>9541.728748</td>\n",
       "      <td>107.0</td>\n",
       "      <td>54179.0</td>\n",
       "      <td>9622.0</td>\n",
       "      <td>165151.0</td>\n",
       "      <td>141173.0</td>\n",
       "      <td>30</td>\n",
       "      <td>-1</td>\n",
       "    </tr>\n",
       "    <tr>\n",
       "      <th>59324</th>\n",
       "      <td>59324</td>\n",
       "      <td>CAEX98</td>\n",
       "      <td>PH58</td>\n",
       "      <td>2024-05-24</td>\n",
       "      <td>3771.930179</td>\n",
       "      <td>39.0</td>\n",
       "      <td>22382.0</td>\n",
       "      <td>4250.0</td>\n",
       "      <td>65144.0</td>\n",
       "      <td>56525.0</td>\n",
       "      <td>12</td>\n",
       "      <td>8</td>\n",
       "    </tr>\n",
       "  </tbody>\n",
       "</table>\n",
       "<p>59325 rows × 12 columns</p>\n",
       "</div>"
      ],
      "text/plain": [
       "       Unnamed: 0   truck loader       date          ton  n_shovel   \n",
       "0               0  CAEX01   PH06 2023-01-01  2110.433067      22.0  \\\n",
       "1               1  CAEX01   PH06 2023-01-02  3452.522876      35.0   \n",
       "2               2  CAEX01   PH06 2023-01-03  1351.985109      17.0   \n",
       "3               3  CAEX01   PH06 2023-01-04  1017.801653      12.0   \n",
       "4               4  CAEX01   PH06 2023-01-05  1551.033398      19.0   \n",
       "...           ...     ...    ...        ...          ...       ...   \n",
       "59320       59320  CAEX98   PH58 2024-05-20  3413.993213      40.0   \n",
       "59321       59321  CAEX98   PH58 2024-05-21  2169.387982      22.0   \n",
       "59322       59322  CAEX98   PH58 2024-05-22   954.438321      11.0   \n",
       "59323       59323  CAEX98   PH58 2024-05-23  9541.728748     107.0   \n",
       "59324       59324  CAEX98   PH58 2024-05-24  3771.930179      39.0   \n",
       "\n",
       "       truck_total_cycle  loader_total_cycle  distance_empty  distance_full   \n",
       "0                15169.0              2278.0         37793.0        35087.0  \\\n",
       "1                19850.0              3199.0         60107.0        53491.0   \n",
       "2                 7588.0              1755.0         20312.0        16106.0   \n",
       "3                 6431.0               777.0         21696.0        17704.0   \n",
       "4                 9878.0              1556.0         28117.0        25855.0   \n",
       "...                  ...                 ...             ...            ...   \n",
       "59320            24039.0              2785.0         58868.0        65874.0   \n",
       "59321            13015.0              1954.0         34824.0        34734.0   \n",
       "59322             5403.0               996.0         24203.0        13845.0   \n",
       "59323            54179.0              9622.0        165151.0       141173.0   \n",
       "59324            22382.0              4250.0         65144.0        56525.0   \n",
       "\n",
       "       trips  cluster  \n",
       "0          7        7  \n",
       "1         11        8  \n",
       "2          4        5  \n",
       "3          3        3  \n",
       "4          5        4  \n",
       "...      ...      ...  \n",
       "59320     11       -1  \n",
       "59321      7        7  \n",
       "59322      3        3  \n",
       "59323     30       -1  \n",
       "59324     12        8  \n",
       "\n",
       "[59325 rows x 12 columns]"
      ]
     },
     "execution_count": 52,
     "metadata": {},
     "output_type": "execute_result"
    }
   ],
   "source": [
    "import hdbscan\n",
    "\n",
    "# Configurar y ejecutar HDBSCAN\n",
    "hdbscan_cluster = hdbscan.HDBSCAN(min_cluster_size=1000, min_samples=10)  # Ajusta min_cluster_size y min_samples según tus necesidades\n",
    "clusters = hdbscan_cluster.fit_predict(df_hdbscan_scaled)\n",
    "\n",
    "# Agregar los clusters al DataFrame original\n",
    "df_filtered['cluster'] = clusters\n",
    "df_filtered"
   ]
  },
  {
   "cell_type": "code",
   "execution_count": null,
   "metadata": {},
   "outputs": [
    {
     "data": {
      "text/html": [
       "<div>\n",
       "<style scoped>\n",
       "    .dataframe tbody tr th:only-of-type {\n",
       "        vertical-align: middle;\n",
       "    }\n",
       "\n",
       "    .dataframe tbody tr th {\n",
       "        vertical-align: top;\n",
       "    }\n",
       "\n",
       "    .dataframe thead tr th {\n",
       "        text-align: left;\n",
       "    }\n",
       "</style>\n",
       "<table border=\"1\" class=\"dataframe\">\n",
       "  <thead>\n",
       "    <tr>\n",
       "      <th></th>\n",
       "      <th>cluster</th>\n",
       "      <th colspan=\"2\" halign=\"left\">Unnamed: 0</th>\n",
       "      <th colspan=\"2\" halign=\"left\">ton</th>\n",
       "      <th colspan=\"2\" halign=\"left\">n_shovel</th>\n",
       "      <th colspan=\"2\" halign=\"left\">truck_total_cycle</th>\n",
       "      <th colspan=\"2\" halign=\"left\">loader_total_cycle</th>\n",
       "      <th colspan=\"2\" halign=\"left\">distance_empty</th>\n",
       "      <th colspan=\"2\" halign=\"left\">distance_full</th>\n",
       "      <th colspan=\"2\" halign=\"left\">trips</th>\n",
       "    </tr>\n",
       "    <tr>\n",
       "      <th></th>\n",
       "      <th></th>\n",
       "      <th>mean</th>\n",
       "      <th>std</th>\n",
       "      <th>mean</th>\n",
       "      <th>std</th>\n",
       "      <th>mean</th>\n",
       "      <th>std</th>\n",
       "      <th>mean</th>\n",
       "      <th>std</th>\n",
       "      <th>mean</th>\n",
       "      <th>std</th>\n",
       "      <th>mean</th>\n",
       "      <th>std</th>\n",
       "      <th>mean</th>\n",
       "      <th>std</th>\n",
       "      <th>mean</th>\n",
       "      <th>std</th>\n",
       "    </tr>\n",
       "  </thead>\n",
       "  <tbody>\n",
       "    <tr>\n",
       "      <th>0</th>\n",
       "      <td>-1</td>\n",
       "      <td>31322.275895</td>\n",
       "      <td>16609.762086</td>\n",
       "      <td>4186.147280</td>\n",
       "      <td>1896.990043</td>\n",
       "      <td>43.901575</td>\n",
       "      <td>19.747256</td>\n",
       "      <td>28289.935847</td>\n",
       "      <td>12770.080690</td>\n",
       "      <td>4005.319236</td>\n",
       "      <td>1850.863397</td>\n",
       "      <td>74693.716563</td>\n",
       "      <td>34820.390445</td>\n",
       "      <td>70753.486110</td>\n",
       "      <td>33698.876715</td>\n",
       "      <td>13.161718</td>\n",
       "      <td>5.956321</td>\n",
       "    </tr>\n",
       "    <tr>\n",
       "      <th>1</th>\n",
       "      <td>0</td>\n",
       "      <td>28959.309293</td>\n",
       "      <td>17459.948899</td>\n",
       "      <td>322.029216</td>\n",
       "      <td>17.376605</td>\n",
       "      <td>4.000000</td>\n",
       "      <td>0.000000</td>\n",
       "      <td>2382.621491</td>\n",
       "      <td>753.077515</td>\n",
       "      <td>335.651985</td>\n",
       "      <td>102.804530</td>\n",
       "      <td>6331.680058</td>\n",
       "      <td>2261.340437</td>\n",
       "      <td>5726.798161</td>\n",
       "      <td>2169.934145</td>\n",
       "      <td>1.000000</td>\n",
       "      <td>0.000000</td>\n",
       "    </tr>\n",
       "    <tr>\n",
       "      <th>2</th>\n",
       "      <td>1</td>\n",
       "      <td>28749.575011</td>\n",
       "      <td>17349.850698</td>\n",
       "      <td>315.578134</td>\n",
       "      <td>16.599115</td>\n",
       "      <td>3.000000</td>\n",
       "      <td>0.000000</td>\n",
       "      <td>2388.959576</td>\n",
       "      <td>789.283722</td>\n",
       "      <td>294.647860</td>\n",
       "      <td>104.718728</td>\n",
       "      <td>6796.900994</td>\n",
       "      <td>2329.902800</td>\n",
       "      <td>6167.351924</td>\n",
       "      <td>2212.463021</td>\n",
       "      <td>1.000000</td>\n",
       "      <td>0.000000</td>\n",
       "    </tr>\n",
       "    <tr>\n",
       "      <th>3</th>\n",
       "      <td>2</td>\n",
       "      <td>29106.817999</td>\n",
       "      <td>17347.956720</td>\n",
       "      <td>636.064994</td>\n",
       "      <td>25.821843</td>\n",
       "      <td>6.792841</td>\n",
       "      <td>1.019330</td>\n",
       "      <td>4830.498562</td>\n",
       "      <td>1384.749375</td>\n",
       "      <td>622.887723</td>\n",
       "      <td>156.733770</td>\n",
       "      <td>13245.541403</td>\n",
       "      <td>3981.276810</td>\n",
       "      <td>12235.912881</td>\n",
       "      <td>4135.578345</td>\n",
       "      <td>2.000000</td>\n",
       "      <td>0.000000</td>\n",
       "    </tr>\n",
       "    <tr>\n",
       "      <th>4</th>\n",
       "      <td>3</td>\n",
       "      <td>29123.675079</td>\n",
       "      <td>17154.422425</td>\n",
       "      <td>954.239744</td>\n",
       "      <td>33.142714</td>\n",
       "      <td>10.052426</td>\n",
       "      <td>1.257233</td>\n",
       "      <td>7281.094637</td>\n",
       "      <td>2024.698599</td>\n",
       "      <td>923.030344</td>\n",
       "      <td>193.018882</td>\n",
       "      <td>19943.847379</td>\n",
       "      <td>5644.860621</td>\n",
       "      <td>18621.691753</td>\n",
       "      <td>6105.850012</td>\n",
       "      <td>3.000000</td>\n",
       "      <td>0.000000</td>\n",
       "    </tr>\n",
       "    <tr>\n",
       "      <th>5</th>\n",
       "      <td>4</td>\n",
       "      <td>29246.535446</td>\n",
       "      <td>16960.193460</td>\n",
       "      <td>1589.783408</td>\n",
       "      <td>46.366528</td>\n",
       "      <td>16.534164</td>\n",
       "      <td>1.593684</td>\n",
       "      <td>12104.905844</td>\n",
       "      <td>3234.253427</td>\n",
       "      <td>1529.598095</td>\n",
       "      <td>252.638287</td>\n",
       "      <td>33420.597912</td>\n",
       "      <td>9059.515406</td>\n",
       "      <td>31151.904561</td>\n",
       "      <td>9947.596461</td>\n",
       "      <td>5.000000</td>\n",
       "      <td>0.000000</td>\n",
       "    </tr>\n",
       "    <tr>\n",
       "      <th>6</th>\n",
       "      <td>5</td>\n",
       "      <td>29352.946140</td>\n",
       "      <td>17142.811517</td>\n",
       "      <td>1272.082172</td>\n",
       "      <td>39.695119</td>\n",
       "      <td>13.291823</td>\n",
       "      <td>1.405078</td>\n",
       "      <td>9706.673739</td>\n",
       "      <td>2646.399434</td>\n",
       "      <td>1227.930472</td>\n",
       "      <td>227.531824</td>\n",
       "      <td>26651.447038</td>\n",
       "      <td>7342.730196</td>\n",
       "      <td>24910.343724</td>\n",
       "      <td>7978.806915</td>\n",
       "      <td>4.000000</td>\n",
       "      <td>0.000000</td>\n",
       "    </tr>\n",
       "    <tr>\n",
       "      <th>7</th>\n",
       "      <td>6</td>\n",
       "      <td>29384.865678</td>\n",
       "      <td>17286.476117</td>\n",
       "      <td>1907.594326</td>\n",
       "      <td>52.763059</td>\n",
       "      <td>19.777078</td>\n",
       "      <td>1.735711</td>\n",
       "      <td>14453.678114</td>\n",
       "      <td>3820.522351</td>\n",
       "      <td>1828.406828</td>\n",
       "      <td>279.156710</td>\n",
       "      <td>39792.499086</td>\n",
       "      <td>10825.183819</td>\n",
       "      <td>37254.006096</td>\n",
       "      <td>11694.084742</td>\n",
       "      <td>6.000000</td>\n",
       "      <td>0.000000</td>\n",
       "    </tr>\n",
       "    <tr>\n",
       "      <th>8</th>\n",
       "      <td>7</td>\n",
       "      <td>30067.183753</td>\n",
       "      <td>17233.458490</td>\n",
       "      <td>2226.601261</td>\n",
       "      <td>58.656318</td>\n",
       "      <td>22.883467</td>\n",
       "      <td>1.779562</td>\n",
       "      <td>16659.726447</td>\n",
       "      <td>4455.234656</td>\n",
       "      <td>2113.966779</td>\n",
       "      <td>299.951804</td>\n",
       "      <td>45933.228653</td>\n",
       "      <td>12439.856697</td>\n",
       "      <td>42669.189982</td>\n",
       "      <td>13256.823666</td>\n",
       "      <td>7.000000</td>\n",
       "      <td>0.000000</td>\n",
       "    </tr>\n",
       "    <tr>\n",
       "      <th>9</th>\n",
       "      <td>8</td>\n",
       "      <td>29312.366049</td>\n",
       "      <td>17143.030573</td>\n",
       "      <td>3363.611702</td>\n",
       "      <td>257.439655</td>\n",
       "      <td>34.224646</td>\n",
       "      <td>3.056389</td>\n",
       "      <td>21172.624137</td>\n",
       "      <td>5649.583110</td>\n",
       "      <td>3192.390403</td>\n",
       "      <td>446.239315</td>\n",
       "      <td>55970.028353</td>\n",
       "      <td>16634.594666</td>\n",
       "      <td>51919.463831</td>\n",
       "      <td>16567.765049</td>\n",
       "      <td>10.573610</td>\n",
       "      <td>0.759149</td>\n",
       "    </tr>\n",
       "    <tr>\n",
       "      <th>10</th>\n",
       "      <td>9</td>\n",
       "      <td>29519.094682</td>\n",
       "      <td>17294.433298</td>\n",
       "      <td>2542.972585</td>\n",
       "      <td>64.118061</td>\n",
       "      <td>26.063554</td>\n",
       "      <td>1.770990</td>\n",
       "      <td>18743.467250</td>\n",
       "      <td>5060.960470</td>\n",
       "      <td>2413.333658</td>\n",
       "      <td>325.003881</td>\n",
       "      <td>51486.220493</td>\n",
       "      <td>14511.250973</td>\n",
       "      <td>47847.148508</td>\n",
       "      <td>15123.294716</td>\n",
       "      <td>8.000000</td>\n",
       "      <td>0.000000</td>\n",
       "    </tr>\n",
       "    <tr>\n",
       "      <th>11</th>\n",
       "      <td>10</td>\n",
       "      <td>30127.312340</td>\n",
       "      <td>17015.769552</td>\n",
       "      <td>2860.650706</td>\n",
       "      <td>70.230595</td>\n",
       "      <td>29.182553</td>\n",
       "      <td>1.855885</td>\n",
       "      <td>20962.771489</td>\n",
       "      <td>5768.984892</td>\n",
       "      <td>2707.232766</td>\n",
       "      <td>340.780308</td>\n",
       "      <td>56999.756170</td>\n",
       "      <td>16486.221637</td>\n",
       "      <td>53362.054043</td>\n",
       "      <td>17237.273499</td>\n",
       "      <td>9.000000</td>\n",
       "      <td>0.000000</td>\n",
       "    </tr>\n",
       "  </tbody>\n",
       "</table>\n",
       "</div>"
      ],
      "text/plain": [
       "   cluster    Unnamed: 0                        ton                n_shovel   \n",
       "                    mean           std         mean          std       mean   \n",
       "0       -1  31322.275895  16609.762086  4186.147280  1896.990043  43.901575  \\\n",
       "1        0  28959.309293  17459.948899   322.029216    17.376605   4.000000   \n",
       "2        1  28749.575011  17349.850698   315.578134    16.599115   3.000000   \n",
       "3        2  29106.817999  17347.956720   636.064994    25.821843   6.792841   \n",
       "4        3  29123.675079  17154.422425   954.239744    33.142714  10.052426   \n",
       "5        4  29246.535446  16960.193460  1589.783408    46.366528  16.534164   \n",
       "6        5  29352.946140  17142.811517  1272.082172    39.695119  13.291823   \n",
       "7        6  29384.865678  17286.476117  1907.594326    52.763059  19.777078   \n",
       "8        7  30067.183753  17233.458490  2226.601261    58.656318  22.883467   \n",
       "9        8  29312.366049  17143.030573  3363.611702   257.439655  34.224646   \n",
       "10       9  29519.094682  17294.433298  2542.972585    64.118061  26.063554   \n",
       "11      10  30127.312340  17015.769552  2860.650706    70.230595  29.182553   \n",
       "\n",
       "              truck_total_cycle               loader_total_cycle                \n",
       "          std              mean           std               mean          std   \n",
       "0   19.747256      28289.935847  12770.080690        4005.319236  1850.863397  \\\n",
       "1    0.000000       2382.621491    753.077515         335.651985   102.804530   \n",
       "2    0.000000       2388.959576    789.283722         294.647860   104.718728   \n",
       "3    1.019330       4830.498562   1384.749375         622.887723   156.733770   \n",
       "4    1.257233       7281.094637   2024.698599         923.030344   193.018882   \n",
       "5    1.593684      12104.905844   3234.253427        1529.598095   252.638287   \n",
       "6    1.405078       9706.673739   2646.399434        1227.930472   227.531824   \n",
       "7    1.735711      14453.678114   3820.522351        1828.406828   279.156710   \n",
       "8    1.779562      16659.726447   4455.234656        2113.966779   299.951804   \n",
       "9    3.056389      21172.624137   5649.583110        3192.390403   446.239315   \n",
       "10   1.770990      18743.467250   5060.960470        2413.333658   325.003881   \n",
       "11   1.855885      20962.771489   5768.984892        2707.232766   340.780308   \n",
       "\n",
       "   distance_empty               distance_full                    trips   \n",
       "             mean           std          mean           std       mean   \n",
       "0    74693.716563  34820.390445  70753.486110  33698.876715  13.161718  \\\n",
       "1     6331.680058   2261.340437   5726.798161   2169.934145   1.000000   \n",
       "2     6796.900994   2329.902800   6167.351924   2212.463021   1.000000   \n",
       "3    13245.541403   3981.276810  12235.912881   4135.578345   2.000000   \n",
       "4    19943.847379   5644.860621  18621.691753   6105.850012   3.000000   \n",
       "5    33420.597912   9059.515406  31151.904561   9947.596461   5.000000   \n",
       "6    26651.447038   7342.730196  24910.343724   7978.806915   4.000000   \n",
       "7    39792.499086  10825.183819  37254.006096  11694.084742   6.000000   \n",
       "8    45933.228653  12439.856697  42669.189982  13256.823666   7.000000   \n",
       "9    55970.028353  16634.594666  51919.463831  16567.765049  10.573610   \n",
       "10   51486.220493  14511.250973  47847.148508  15123.294716   8.000000   \n",
       "11   56999.756170  16486.221637  53362.054043  17237.273499   9.000000   \n",
       "\n",
       "              \n",
       "         std  \n",
       "0   5.956321  \n",
       "1   0.000000  \n",
       "2   0.000000  \n",
       "3   0.000000  \n",
       "4   0.000000  \n",
       "5   0.000000  \n",
       "6   0.000000  \n",
       "7   0.000000  \n",
       "8   0.000000  \n",
       "9   0.759149  \n",
       "10  0.000000  \n",
       "11  0.000000  "
      ]
     },
     "execution_count": 56,
     "metadata": {},
     "output_type": "execute_result"
    }
   ],
   "source": [
    "numeric_cols = df_filtered.select_dtypes(include=['float64', 'int64']).columns\n",
    "numeric_cols = [col for col in numeric_cols if col != 'cluster']\n",
    "cluster_summary = df_filtered.groupby('cluster')[numeric_cols].agg(['mean', 'std']).reset_index()\n",
    "cluster_summary\n"
   ]
  },
  {
   "cell_type": "code",
   "execution_count": 74,
   "metadata": {},
   "outputs": [
    {
     "data": {
      "text/plain": [
       "cluster\n",
       "-1     808\n",
       " 3      85\n",
       " 8      83\n",
       " 5      81\n",
       " 6      78\n",
       " 4      77\n",
       " 10     76\n",
       " 9      75\n",
       " 2      72\n",
       " 7      69\n",
       " 1      51\n",
       " 0      24\n",
       "Name: count, dtype: int64"
      ]
     },
     "execution_count": 74,
     "metadata": {},
     "output_type": "execute_result"
    }
   ],
   "source": [
    "# df_filtered[(df_filtered['cluster']==-1)& (df_filtered['ton']>13000)]\n",
    "df_filtered[df_filtered['truck']=='CAEX66']['cluster'].value_counts()"
   ]
  },
  {
   "cell_type": "markdown",
   "metadata": {},
   "source": []
  },
  {
   "cell_type": "code",
   "execution_count": 58,
   "metadata": {},
   "outputs": [
    {
     "data": {
      "text/html": [
       "<div>\n",
       "<style scoped>\n",
       "    .dataframe tbody tr th:only-of-type {\n",
       "        vertical-align: middle;\n",
       "    }\n",
       "\n",
       "    .dataframe tbody tr th {\n",
       "        vertical-align: top;\n",
       "    }\n",
       "\n",
       "    .dataframe thead th {\n",
       "        text-align: right;\n",
       "    }\n",
       "</style>\n",
       "<table border=\"1\" class=\"dataframe\">\n",
       "  <thead>\n",
       "    <tr style=\"text-align: right;\">\n",
       "      <th></th>\n",
       "      <th>cluster</th>\n",
       "      <th>truck</th>\n",
       "      <th>loader</th>\n",
       "      <th>count</th>\n",
       "    </tr>\n",
       "  </thead>\n",
       "  <tbody>\n",
       "    <tr>\n",
       "      <th>301</th>\n",
       "      <td>0</td>\n",
       "      <td>CAEX61</td>\n",
       "      <td>PH06</td>\n",
       "      <td>1</td>\n",
       "    </tr>\n",
       "    <tr>\n",
       "      <th>2176</th>\n",
       "      <td>10</td>\n",
       "      <td>CAEX61</td>\n",
       "      <td>PH58</td>\n",
       "      <td>1</td>\n",
       "    </tr>\n",
       "    <tr>\n",
       "      <th>2175</th>\n",
       "      <td>10</td>\n",
       "      <td>CAEX61</td>\n",
       "      <td>PH55</td>\n",
       "      <td>1</td>\n",
       "    </tr>\n",
       "    <tr>\n",
       "      <th>2173</th>\n",
       "      <td>10</td>\n",
       "      <td>CAEX61</td>\n",
       "      <td>PH06</td>\n",
       "      <td>1</td>\n",
       "    </tr>\n",
       "    <tr>\n",
       "      <th>1427</th>\n",
       "      <td>6</td>\n",
       "      <td>CAEX61</td>\n",
       "      <td>PH06</td>\n",
       "      <td>1</td>\n",
       "    </tr>\n",
       "    <tr>\n",
       "      <th>...</th>\n",
       "      <td>...</td>\n",
       "      <td>...</td>\n",
       "      <td>...</td>\n",
       "      <td>...</td>\n",
       "    </tr>\n",
       "    <tr>\n",
       "      <th>43</th>\n",
       "      <td>-1</td>\n",
       "      <td>CAEX25</td>\n",
       "      <td>PH58</td>\n",
       "      <td>186</td>\n",
       "    </tr>\n",
       "    <tr>\n",
       "      <th>125</th>\n",
       "      <td>-1</td>\n",
       "      <td>CAEX66</td>\n",
       "      <td>PH06</td>\n",
       "      <td>189</td>\n",
       "    </tr>\n",
       "    <tr>\n",
       "      <th>101</th>\n",
       "      <td>-1</td>\n",
       "      <td>CAEX55</td>\n",
       "      <td>PH48</td>\n",
       "      <td>190</td>\n",
       "    </tr>\n",
       "    <tr>\n",
       "      <th>126</th>\n",
       "      <td>-1</td>\n",
       "      <td>CAEX66</td>\n",
       "      <td>PH48</td>\n",
       "      <td>242</td>\n",
       "    </tr>\n",
       "    <tr>\n",
       "      <th>128</th>\n",
       "      <td>-1</td>\n",
       "      <td>CAEX66</td>\n",
       "      <td>PH58</td>\n",
       "      <td>275</td>\n",
       "    </tr>\n",
       "  </tbody>\n",
       "</table>\n",
       "<p>2244 rows × 4 columns</p>\n",
       "</div>"
      ],
      "text/plain": [
       "      cluster   truck loader  count\n",
       "301         0  CAEX61   PH06      1\n",
       "2176       10  CAEX61   PH58      1\n",
       "2175       10  CAEX61   PH55      1\n",
       "2173       10  CAEX61   PH06      1\n",
       "1427        6  CAEX61   PH06      1\n",
       "...       ...     ...    ...    ...\n",
       "43         -1  CAEX25   PH58    186\n",
       "125        -1  CAEX66   PH06    189\n",
       "101        -1  CAEX55   PH48    190\n",
       "126        -1  CAEX66   PH48    242\n",
       "128        -1  CAEX66   PH58    275\n",
       "\n",
       "[2244 rows x 4 columns]"
      ]
     },
     "execution_count": 58,
     "metadata": {},
     "output_type": "execute_result"
    }
   ],
   "source": [
    "# Revisar la distribución de camiones y palas por cluster\n",
    "distribution_truck_loader = df_filtered.groupby(['cluster', 'truck', 'loader']).size().reset_index(name='count')\n",
    "distribution_truck_loader.sort_values(by='count')\n"
   ]
  },
  {
   "cell_type": "code",
   "execution_count": 59,
   "metadata": {},
   "outputs": [],
   "source": [
    "df_filtered.to_csv(r'data\\cluster.csv')"
   ]
  },
  {
   "cell_type": "code",
   "execution_count": 69,
   "metadata": {},
   "outputs": [
    {
     "data": {
      "application/vnd.plotly.v1+json": {
       "config": {
        "plotlyServerURL": "https://plot.ly"
       },
       "data": [
        {
         "marker": {
          "color": [
           "#1f77b4",
           "#ff7f0e",
           "#2ca02c",
           "#d62728",
           "#9467bd",
           "#8c564b",
           "#e377c2",
           "#7f7f7f",
           "#bcbd22",
           "#17becf"
          ]
         },
         "mode": "markers",
         "name": "Tonelaje vs Número de Paladas",
         "text": [
          -1,
          0,
          1,
          2,
          3,
          4,
          5,
          6,
          7,
          8,
          9,
          10
         ],
         "type": "scatter",
         "x": [
          4186.147279804267,
          322.0292158131109,
          315.57813389122435,
          636.0649939430402,
          954.2397437058166,
          1589.7834078213468,
          1272.0821721726215,
          1907.5943261907582,
          2226.601261088473,
          3363.6117023109337,
          2542.972584981455,
          2860.6507061059137
         ],
         "xaxis": "x",
         "y": [
          43.90157517899761,
          4,
          3,
          6.792840713053479,
          10.052426017725702,
          16.534163766257556,
          13.291823078178554,
          19.77707782970941,
          22.8834674279782,
          34.22464558342421,
          26.06355382619974,
          29.18255319148936
         ],
         "yaxis": "y"
        },
        {
         "marker": {
          "color": [
           "#1f77b4",
           "#ff7f0e",
           "#2ca02c",
           "#d62728",
           "#9467bd",
           "#8c564b",
           "#e377c2",
           "#7f7f7f",
           "#bcbd22",
           "#17becf"
          ]
         },
         "mode": "markers",
         "name": "Tonelaje vs Ciclo Total de Camión",
         "text": [
          -1,
          0,
          1,
          2,
          3,
          4,
          5,
          6,
          7,
          8,
          9,
          10
         ],
         "type": "scatter",
         "x": [
          4186.147279804267,
          322.0292158131109,
          315.57813389122435,
          636.0649939430402,
          954.2397437058166,
          1589.7834078213468,
          1272.0821721726215,
          1907.5943261907582,
          2226.601261088473,
          3363.6117023109337,
          2542.972584981455,
          2860.6507061059137
         ],
         "xaxis": "x2",
         "y": [
          28289.93584725537,
          2382.621490803485,
          2388.9595763078255,
          4830.498562392179,
          7281.094637223975,
          12104.905843561091,
          9706.673739187205,
          14453.67811420443,
          16659.726446924473,
          21172.624136677572,
          18743.467250324255,
          20962.7714893617
         ],
         "yaxis": "y2"
        },
        {
         "marker": {
          "color": [
           "#1f77b4",
           "#ff7f0e",
           "#2ca02c",
           "#d62728",
           "#9467bd",
           "#8c564b",
           "#e377c2",
           "#7f7f7f",
           "#bcbd22",
           "#17becf"
          ]
         },
         "mode": "markers",
         "name": "Tonelaje vs Distancia Recorrida Lleno",
         "text": [
          -1,
          0,
          1,
          2,
          3,
          4,
          5,
          6,
          7,
          8,
          9,
          10
         ],
         "type": "scatter",
         "x": [
          4186.147279804267,
          322.0292158131109,
          315.57813389122435,
          636.0649939430402,
          954.2397437058166,
          1589.7834078213468,
          1272.0821721726215,
          1907.5943261907582,
          2226.601261088473,
          3363.6117023109337,
          2542.972584981455,
          2860.6507061059137
         ],
         "xaxis": "x3",
         "y": [
          70753.4861097852,
          5726.798160696999,
          6167.351923908344,
          12235.912880966072,
          18621.691753041912,
          31151.904561274958,
          24910.34372449812,
          37254.006096321886,
          42669.189981832336,
          51919.46383133406,
          47847.14850843061,
          53362.054042553194
         ],
         "yaxis": "y3"
        },
        {
         "marker": {
          "color": [
           "#1f77b4",
           "#ff7f0e",
           "#2ca02c",
           "#d62728",
           "#9467bd",
           "#8c564b",
           "#e377c2",
           "#7f7f7f",
           "#bcbd22",
           "#17becf"
          ]
         },
         "mode": "markers",
         "name": "Tonelaje vs Número de Viajes",
         "text": [
          -1,
          0,
          1,
          2,
          3,
          4,
          5,
          6,
          7,
          8,
          9,
          10
         ],
         "type": "scatter",
         "x": [
          4186.147279804267,
          322.0292158131109,
          315.57813389122435,
          636.0649939430402,
          954.2397437058166,
          1589.7834078213468,
          1272.0821721726215,
          1907.5943261907582,
          2226.601261088473,
          3363.6117023109337,
          2542.972584981455,
          2860.6507061059137
         ],
         "xaxis": "x4",
         "y": [
          13.161718377088306,
          1,
          1,
          2,
          3,
          5,
          4,
          6,
          7,
          10.57360959651036,
          8,
          9
         ],
         "yaxis": "y4"
        },
        {
         "marker": {
          "color": [
           "#1f77b4",
           "#ff7f0e",
           "#2ca02c",
           "#d62728",
           "#9467bd",
           "#8c564b",
           "#e377c2",
           "#7f7f7f",
           "#bcbd22",
           "#17becf"
          ]
         },
         "mode": "markers",
         "name": "Número de Paladas vs Ciclo Total de Pala",
         "text": [
          -1,
          0,
          1,
          2,
          3,
          4,
          5,
          6,
          7,
          8,
          9,
          10
         ],
         "type": "scatter",
         "x": [
          43.90157517899761,
          4,
          3,
          6.792840713053479,
          10.052426017725702,
          16.534163766257556,
          13.291823078178554,
          19.77707782970941,
          22.8834674279782,
          34.22464558342421,
          26.06355382619974,
          29.18255319148936
         ],
         "xaxis": "x5",
         "y": [
          4005.3192362768496,
          335.65198451113264,
          294.647859922179,
          622.8877228292122,
          923.0303439987982,
          1529.5980948891738,
          1227.930471682716,
          1828.406827880512,
          2113.966779133143,
          3192.39040348964,
          2413.3336575875487,
          2707.2327659574466
         ],
         "yaxis": "y5"
        },
        {
         "marker": {
          "color": [
           "#1f77b4",
           "#ff7f0e",
           "#2ca02c",
           "#d62728",
           "#9467bd",
           "#8c564b",
           "#e377c2",
           "#7f7f7f",
           "#bcbd22",
           "#17becf"
          ]
         },
         "mode": "markers",
         "name": "Ciclo Total de Camión vs Distancia Vacío",
         "text": [
          -1,
          0,
          1,
          2,
          3,
          4,
          5,
          6,
          7,
          8,
          9,
          10
         ],
         "type": "scatter",
         "x": [
          28289.93584725537,
          2382.621490803485,
          2388.9595763078255,
          4830.498562392179,
          7281.094637223975,
          12104.905843561091,
          9706.673739187205,
          14453.67811420443,
          16659.726446924473,
          21172.624136677572,
          18743.467250324255,
          20962.7714893617
         ],
         "xaxis": "x6",
         "y": [
          74693.71656324582,
          6331.680058083252,
          6796.900994379594,
          13245.541403105233,
          19943.847378699113,
          33420.59791170544,
          26651.447037701975,
          39792.49908555172,
          45933.22865299766,
          55970.028353326066,
          51486.22049286641,
          56999.756170212764
         ],
         "yaxis": "y6"
        }
       ],
       "layout": {
        "annotations": [
         {
          "font": {
           "size": 16
          },
          "showarrow": false,
          "text": "Tonelaje vs Número de Paladas",
          "x": 0.14444444444444446,
          "xanchor": "center",
          "xref": "paper",
          "y": 1,
          "yanchor": "bottom",
          "yref": "paper"
         },
         {
          "font": {
           "size": 16
          },
          "showarrow": false,
          "text": "Tonelaje vs Ciclo Total de Camión",
          "x": 0.5,
          "xanchor": "center",
          "xref": "paper",
          "y": 1,
          "yanchor": "bottom",
          "yref": "paper"
         },
         {
          "font": {
           "size": 16
          },
          "showarrow": false,
          "text": "Tonelaje vs Distancia Recorrida Lleno",
          "x": 0.8555555555555556,
          "xanchor": "center",
          "xref": "paper",
          "y": 1,
          "yanchor": "bottom",
          "yref": "paper"
         },
         {
          "font": {
           "size": 16
          },
          "showarrow": false,
          "text": "Tonelaje vs Número de Viajes",
          "x": 0.14444444444444446,
          "xanchor": "center",
          "xref": "paper",
          "y": 0.375,
          "yanchor": "bottom",
          "yref": "paper"
         },
         {
          "font": {
           "size": 16
          },
          "showarrow": false,
          "text": "Número de Paladas vs Ciclo Total de Pala",
          "x": 0.5,
          "xanchor": "center",
          "xref": "paper",
          "y": 0.375,
          "yanchor": "bottom",
          "yref": "paper"
         },
         {
          "font": {
           "size": 16
          },
          "showarrow": false,
          "text": "Ciclo Total de Camión vs Distancia Vacío",
          "x": 0.8555555555555556,
          "xanchor": "center",
          "xref": "paper",
          "y": 0.375,
          "yanchor": "bottom",
          "yref": "paper"
         }
        ],
        "height": 800,
        "showlegend": false,
        "template": {
         "data": {
          "bar": [
           {
            "error_x": {
             "color": "#2a3f5f"
            },
            "error_y": {
             "color": "#2a3f5f"
            },
            "marker": {
             "line": {
              "color": "#E5ECF6",
              "width": 0.5
             },
             "pattern": {
              "fillmode": "overlay",
              "size": 10,
              "solidity": 0.2
             }
            },
            "type": "bar"
           }
          ],
          "barpolar": [
           {
            "marker": {
             "line": {
              "color": "#E5ECF6",
              "width": 0.5
             },
             "pattern": {
              "fillmode": "overlay",
              "size": 10,
              "solidity": 0.2
             }
            },
            "type": "barpolar"
           }
          ],
          "carpet": [
           {
            "aaxis": {
             "endlinecolor": "#2a3f5f",
             "gridcolor": "white",
             "linecolor": "white",
             "minorgridcolor": "white",
             "startlinecolor": "#2a3f5f"
            },
            "baxis": {
             "endlinecolor": "#2a3f5f",
             "gridcolor": "white",
             "linecolor": "white",
             "minorgridcolor": "white",
             "startlinecolor": "#2a3f5f"
            },
            "type": "carpet"
           }
          ],
          "choropleth": [
           {
            "colorbar": {
             "outlinewidth": 0,
             "ticks": ""
            },
            "type": "choropleth"
           }
          ],
          "contour": [
           {
            "colorbar": {
             "outlinewidth": 0,
             "ticks": ""
            },
            "colorscale": [
             [
              0,
              "#0d0887"
             ],
             [
              0.1111111111111111,
              "#46039f"
             ],
             [
              0.2222222222222222,
              "#7201a8"
             ],
             [
              0.3333333333333333,
              "#9c179e"
             ],
             [
              0.4444444444444444,
              "#bd3786"
             ],
             [
              0.5555555555555556,
              "#d8576b"
             ],
             [
              0.6666666666666666,
              "#ed7953"
             ],
             [
              0.7777777777777778,
              "#fb9f3a"
             ],
             [
              0.8888888888888888,
              "#fdca26"
             ],
             [
              1,
              "#f0f921"
             ]
            ],
            "type": "contour"
           }
          ],
          "contourcarpet": [
           {
            "colorbar": {
             "outlinewidth": 0,
             "ticks": ""
            },
            "type": "contourcarpet"
           }
          ],
          "heatmap": [
           {
            "colorbar": {
             "outlinewidth": 0,
             "ticks": ""
            },
            "colorscale": [
             [
              0,
              "#0d0887"
             ],
             [
              0.1111111111111111,
              "#46039f"
             ],
             [
              0.2222222222222222,
              "#7201a8"
             ],
             [
              0.3333333333333333,
              "#9c179e"
             ],
             [
              0.4444444444444444,
              "#bd3786"
             ],
             [
              0.5555555555555556,
              "#d8576b"
             ],
             [
              0.6666666666666666,
              "#ed7953"
             ],
             [
              0.7777777777777778,
              "#fb9f3a"
             ],
             [
              0.8888888888888888,
              "#fdca26"
             ],
             [
              1,
              "#f0f921"
             ]
            ],
            "type": "heatmap"
           }
          ],
          "heatmapgl": [
           {
            "colorbar": {
             "outlinewidth": 0,
             "ticks": ""
            },
            "colorscale": [
             [
              0,
              "#0d0887"
             ],
             [
              0.1111111111111111,
              "#46039f"
             ],
             [
              0.2222222222222222,
              "#7201a8"
             ],
             [
              0.3333333333333333,
              "#9c179e"
             ],
             [
              0.4444444444444444,
              "#bd3786"
             ],
             [
              0.5555555555555556,
              "#d8576b"
             ],
             [
              0.6666666666666666,
              "#ed7953"
             ],
             [
              0.7777777777777778,
              "#fb9f3a"
             ],
             [
              0.8888888888888888,
              "#fdca26"
             ],
             [
              1,
              "#f0f921"
             ]
            ],
            "type": "heatmapgl"
           }
          ],
          "histogram": [
           {
            "marker": {
             "pattern": {
              "fillmode": "overlay",
              "size": 10,
              "solidity": 0.2
             }
            },
            "type": "histogram"
           }
          ],
          "histogram2d": [
           {
            "colorbar": {
             "outlinewidth": 0,
             "ticks": ""
            },
            "colorscale": [
             [
              0,
              "#0d0887"
             ],
             [
              0.1111111111111111,
              "#46039f"
             ],
             [
              0.2222222222222222,
              "#7201a8"
             ],
             [
              0.3333333333333333,
              "#9c179e"
             ],
             [
              0.4444444444444444,
              "#bd3786"
             ],
             [
              0.5555555555555556,
              "#d8576b"
             ],
             [
              0.6666666666666666,
              "#ed7953"
             ],
             [
              0.7777777777777778,
              "#fb9f3a"
             ],
             [
              0.8888888888888888,
              "#fdca26"
             ],
             [
              1,
              "#f0f921"
             ]
            ],
            "type": "histogram2d"
           }
          ],
          "histogram2dcontour": [
           {
            "colorbar": {
             "outlinewidth": 0,
             "ticks": ""
            },
            "colorscale": [
             [
              0,
              "#0d0887"
             ],
             [
              0.1111111111111111,
              "#46039f"
             ],
             [
              0.2222222222222222,
              "#7201a8"
             ],
             [
              0.3333333333333333,
              "#9c179e"
             ],
             [
              0.4444444444444444,
              "#bd3786"
             ],
             [
              0.5555555555555556,
              "#d8576b"
             ],
             [
              0.6666666666666666,
              "#ed7953"
             ],
             [
              0.7777777777777778,
              "#fb9f3a"
             ],
             [
              0.8888888888888888,
              "#fdca26"
             ],
             [
              1,
              "#f0f921"
             ]
            ],
            "type": "histogram2dcontour"
           }
          ],
          "mesh3d": [
           {
            "colorbar": {
             "outlinewidth": 0,
             "ticks": ""
            },
            "type": "mesh3d"
           }
          ],
          "parcoords": [
           {
            "line": {
             "colorbar": {
              "outlinewidth": 0,
              "ticks": ""
             }
            },
            "type": "parcoords"
           }
          ],
          "pie": [
           {
            "automargin": true,
            "type": "pie"
           }
          ],
          "scatter": [
           {
            "fillpattern": {
             "fillmode": "overlay",
             "size": 10,
             "solidity": 0.2
            },
            "type": "scatter"
           }
          ],
          "scatter3d": [
           {
            "line": {
             "colorbar": {
              "outlinewidth": 0,
              "ticks": ""
             }
            },
            "marker": {
             "colorbar": {
              "outlinewidth": 0,
              "ticks": ""
             }
            },
            "type": "scatter3d"
           }
          ],
          "scattercarpet": [
           {
            "marker": {
             "colorbar": {
              "outlinewidth": 0,
              "ticks": ""
             }
            },
            "type": "scattercarpet"
           }
          ],
          "scattergeo": [
           {
            "marker": {
             "colorbar": {
              "outlinewidth": 0,
              "ticks": ""
             }
            },
            "type": "scattergeo"
           }
          ],
          "scattergl": [
           {
            "marker": {
             "colorbar": {
              "outlinewidth": 0,
              "ticks": ""
             }
            },
            "type": "scattergl"
           }
          ],
          "scattermapbox": [
           {
            "marker": {
             "colorbar": {
              "outlinewidth": 0,
              "ticks": ""
             }
            },
            "type": "scattermapbox"
           }
          ],
          "scatterpolar": [
           {
            "marker": {
             "colorbar": {
              "outlinewidth": 0,
              "ticks": ""
             }
            },
            "type": "scatterpolar"
           }
          ],
          "scatterpolargl": [
           {
            "marker": {
             "colorbar": {
              "outlinewidth": 0,
              "ticks": ""
             }
            },
            "type": "scatterpolargl"
           }
          ],
          "scatterternary": [
           {
            "marker": {
             "colorbar": {
              "outlinewidth": 0,
              "ticks": ""
             }
            },
            "type": "scatterternary"
           }
          ],
          "surface": [
           {
            "colorbar": {
             "outlinewidth": 0,
             "ticks": ""
            },
            "colorscale": [
             [
              0,
              "#0d0887"
             ],
             [
              0.1111111111111111,
              "#46039f"
             ],
             [
              0.2222222222222222,
              "#7201a8"
             ],
             [
              0.3333333333333333,
              "#9c179e"
             ],
             [
              0.4444444444444444,
              "#bd3786"
             ],
             [
              0.5555555555555556,
              "#d8576b"
             ],
             [
              0.6666666666666666,
              "#ed7953"
             ],
             [
              0.7777777777777778,
              "#fb9f3a"
             ],
             [
              0.8888888888888888,
              "#fdca26"
             ],
             [
              1,
              "#f0f921"
             ]
            ],
            "type": "surface"
           }
          ],
          "table": [
           {
            "cells": {
             "fill": {
              "color": "#EBF0F8"
             },
             "line": {
              "color": "white"
             }
            },
            "header": {
             "fill": {
              "color": "#C8D4E3"
             },
             "line": {
              "color": "white"
             }
            },
            "type": "table"
           }
          ]
         },
         "layout": {
          "annotationdefaults": {
           "arrowcolor": "#2a3f5f",
           "arrowhead": 0,
           "arrowwidth": 1
          },
          "autotypenumbers": "strict",
          "coloraxis": {
           "colorbar": {
            "outlinewidth": 0,
            "ticks": ""
           }
          },
          "colorscale": {
           "diverging": [
            [
             0,
             "#8e0152"
            ],
            [
             0.1,
             "#c51b7d"
            ],
            [
             0.2,
             "#de77ae"
            ],
            [
             0.3,
             "#f1b6da"
            ],
            [
             0.4,
             "#fde0ef"
            ],
            [
             0.5,
             "#f7f7f7"
            ],
            [
             0.6,
             "#e6f5d0"
            ],
            [
             0.7,
             "#b8e186"
            ],
            [
             0.8,
             "#7fbc41"
            ],
            [
             0.9,
             "#4d9221"
            ],
            [
             1,
             "#276419"
            ]
           ],
           "sequential": [
            [
             0,
             "#0d0887"
            ],
            [
             0.1111111111111111,
             "#46039f"
            ],
            [
             0.2222222222222222,
             "#7201a8"
            ],
            [
             0.3333333333333333,
             "#9c179e"
            ],
            [
             0.4444444444444444,
             "#bd3786"
            ],
            [
             0.5555555555555556,
             "#d8576b"
            ],
            [
             0.6666666666666666,
             "#ed7953"
            ],
            [
             0.7777777777777778,
             "#fb9f3a"
            ],
            [
             0.8888888888888888,
             "#fdca26"
            ],
            [
             1,
             "#f0f921"
            ]
           ],
           "sequentialminus": [
            [
             0,
             "#0d0887"
            ],
            [
             0.1111111111111111,
             "#46039f"
            ],
            [
             0.2222222222222222,
             "#7201a8"
            ],
            [
             0.3333333333333333,
             "#9c179e"
            ],
            [
             0.4444444444444444,
             "#bd3786"
            ],
            [
             0.5555555555555556,
             "#d8576b"
            ],
            [
             0.6666666666666666,
             "#ed7953"
            ],
            [
             0.7777777777777778,
             "#fb9f3a"
            ],
            [
             0.8888888888888888,
             "#fdca26"
            ],
            [
             1,
             "#f0f921"
            ]
           ]
          },
          "colorway": [
           "#636efa",
           "#EF553B",
           "#00cc96",
           "#ab63fa",
           "#FFA15A",
           "#19d3f3",
           "#FF6692",
           "#B6E880",
           "#FF97FF",
           "#FECB52"
          ],
          "font": {
           "color": "#2a3f5f"
          },
          "geo": {
           "bgcolor": "white",
           "lakecolor": "white",
           "landcolor": "#E5ECF6",
           "showlakes": true,
           "showland": true,
           "subunitcolor": "white"
          },
          "hoverlabel": {
           "align": "left"
          },
          "hovermode": "closest",
          "mapbox": {
           "style": "light"
          },
          "paper_bgcolor": "white",
          "plot_bgcolor": "#E5ECF6",
          "polar": {
           "angularaxis": {
            "gridcolor": "white",
            "linecolor": "white",
            "ticks": ""
           },
           "bgcolor": "#E5ECF6",
           "radialaxis": {
            "gridcolor": "white",
            "linecolor": "white",
            "ticks": ""
           }
          },
          "scene": {
           "xaxis": {
            "backgroundcolor": "#E5ECF6",
            "gridcolor": "white",
            "gridwidth": 2,
            "linecolor": "white",
            "showbackground": true,
            "ticks": "",
            "zerolinecolor": "white"
           },
           "yaxis": {
            "backgroundcolor": "#E5ECF6",
            "gridcolor": "white",
            "gridwidth": 2,
            "linecolor": "white",
            "showbackground": true,
            "ticks": "",
            "zerolinecolor": "white"
           },
           "zaxis": {
            "backgroundcolor": "#E5ECF6",
            "gridcolor": "white",
            "gridwidth": 2,
            "linecolor": "white",
            "showbackground": true,
            "ticks": "",
            "zerolinecolor": "white"
           }
          },
          "shapedefaults": {
           "line": {
            "color": "#2a3f5f"
           }
          },
          "ternary": {
           "aaxis": {
            "gridcolor": "white",
            "linecolor": "white",
            "ticks": ""
           },
           "baxis": {
            "gridcolor": "white",
            "linecolor": "white",
            "ticks": ""
           },
           "bgcolor": "#E5ECF6",
           "caxis": {
            "gridcolor": "white",
            "linecolor": "white",
            "ticks": ""
           }
          },
          "title": {
           "x": 0.05
          },
          "xaxis": {
           "automargin": true,
           "gridcolor": "white",
           "linecolor": "white",
           "ticks": "",
           "title": {
            "standoff": 15
           },
           "zerolinecolor": "white",
           "zerolinewidth": 2
          },
          "yaxis": {
           "automargin": true,
           "gridcolor": "white",
           "linecolor": "white",
           "ticks": "",
           "title": {
            "standoff": 15
           },
           "zerolinecolor": "white",
           "zerolinewidth": 2
          }
         }
        },
        "title": {
         "text": "Características de los Clústeres"
        },
        "width": 1200,
        "xaxis": {
         "anchor": "y",
         "domain": [
          0,
          0.2888888888888889
         ]
        },
        "xaxis2": {
         "anchor": "y2",
         "domain": [
          0.35555555555555557,
          0.6444444444444445
         ]
        },
        "xaxis3": {
         "anchor": "y3",
         "domain": [
          0.7111111111111111,
          1
         ]
        },
        "xaxis4": {
         "anchor": "y4",
         "domain": [
          0,
          0.2888888888888889
         ]
        },
        "xaxis5": {
         "anchor": "y5",
         "domain": [
          0.35555555555555557,
          0.6444444444444445
         ]
        },
        "xaxis6": {
         "anchor": "y6",
         "domain": [
          0.7111111111111111,
          1
         ]
        },
        "yaxis": {
         "anchor": "x",
         "domain": [
          0.625,
          1
         ]
        },
        "yaxis2": {
         "anchor": "x2",
         "domain": [
          0.625,
          1
         ]
        },
        "yaxis3": {
         "anchor": "x3",
         "domain": [
          0.625,
          1
         ]
        },
        "yaxis4": {
         "anchor": "x4",
         "domain": [
          0,
          0.375
         ]
        },
        "yaxis5": {
         "anchor": "x5",
         "domain": [
          0,
          0.375
         ]
        },
        "yaxis6": {
         "anchor": "x6",
         "domain": [
          0,
          0.375
         ]
        }
       }
      }
     },
     "metadata": {},
     "output_type": "display_data"
    }
   ],
   "source": [
    "import plotly.subplots as sp\n",
    "import plotly.graph_objects as go\n",
    "import matplotlib.pyplot as plt\n",
    "import matplotlib.colors as mcolors\n",
    "\n",
    "# Crear colores específicos para cada clúster\n",
    "unique_clusters = cluster_summary.index\n",
    "num_clusters = len(unique_clusters)\n",
    "colors = [mcolors.rgb2hex(color) for color in plt.cm.tab10.colors][:num_clusters]\n",
    "\n",
    "# Aseguramos el orden de los clusters y las métricas correspondientes\n",
    "cluster_summary_reset = cluster_summary.reset_index()\n",
    "\n",
    "# Crear una figura con subplots organizados en 2 filas x 3 columnas\n",
    "fig = sp.make_subplots(rows=2, cols=3, subplot_titles=[\n",
    "    \"Tonelaje vs Número de Paladas\",\n",
    "    \"Tonelaje vs Ciclo Total de Camión\",\n",
    "    \"Tonelaje vs Distancia Recorrida Lleno\",\n",
    "    \"Tonelaje vs Número de Viajes\",\n",
    "    \"Número de Paladas vs Ciclo Total de Pala\",\n",
    "    \"Ciclo Total de Camión vs Distancia Vacío\"\n",
    "])\n",
    "\n",
    "# Asignar colores a cada gráfico de dispersión\n",
    "# Tonelaje vs Número de Paladas\n",
    "fig.add_trace(go.Scatter(\n",
    "    x=cluster_summary_reset[('ton', 'mean')],\n",
    "    y=cluster_summary_reset[('n_shovel', 'mean')],\n",
    "    mode='markers',\n",
    "    marker=dict(color=colors),\n",
    "    text=cluster_summary_reset['cluster'],  # Agregamos el nombre del cluster como etiqueta\n",
    "    name=\"Tonelaje vs Número de Paladas\"\n",
    "), row=1, col=1)\n",
    "\n",
    "# Tonelaje vs Ciclo Total de Camión\n",
    "fig.add_trace(go.Scatter(\n",
    "    x=cluster_summary_reset[('ton', 'mean')],\n",
    "    y=cluster_summary_reset[('truck_total_cycle', 'mean')],\n",
    "    mode='markers',\n",
    "    marker=dict(color=colors),\n",
    "    text=cluster_summary_reset['cluster'],\n",
    "    name=\"Tonelaje vs Ciclo Total de Camión\"\n",
    "), row=1, col=2)\n",
    "\n",
    "# Tonelaje vs Distancia Recorrida Lleno\n",
    "fig.add_trace(go.Scatter(\n",
    "    x=cluster_summary_reset[('ton', 'mean')],\n",
    "    y=cluster_summary_reset[('distance_full', 'mean')],\n",
    "    mode='markers',\n",
    "    marker=dict(color=colors),\n",
    "    text=cluster_summary_reset['cluster'],\n",
    "    name=\"Tonelaje vs Distancia Recorrida Lleno\"\n",
    "), row=1, col=3)\n",
    "\n",
    "# Tonelaje vs Número de Viajes\n",
    "fig.add_trace(go.Scatter(\n",
    "    x=cluster_summary_reset[('ton', 'mean')],\n",
    "    y=cluster_summary_reset[('trips', 'mean')],\n",
    "    mode='markers',\n",
    "    marker=dict(color=colors),\n",
    "    text=cluster_summary_reset['cluster'],\n",
    "    name=\"Tonelaje vs Número de Viajes\"\n",
    "), row=2, col=1)\n",
    "\n",
    "# Número de Paladas vs Ciclo Total de Pala\n",
    "fig.add_trace(go.Scatter(\n",
    "    x=cluster_summary_reset[('n_shovel', 'mean')],\n",
    "    y=cluster_summary_reset[('loader_total_cycle', 'mean')],\n",
    "    mode='markers',\n",
    "    marker=dict(color=colors),\n",
    "    text=cluster_summary_reset['cluster'],\n",
    "    name=\"Número de Paladas vs Ciclo Total de Pala\"\n",
    "), row=2, col=2)\n",
    "\n",
    "# Ciclo Total de Camión vs Distancia Vacío\n",
    "fig.add_trace(go.Scatter(\n",
    "    x=cluster_summary_reset[('truck_total_cycle', 'mean')],\n",
    "    y=cluster_summary_reset[('distance_empty', 'mean')],\n",
    "    mode='markers',\n",
    "    marker=dict(color=colors),\n",
    "    text=cluster_summary_reset['cluster'],\n",
    "    name=\"Ciclo Total de Camión vs Distancia Vacío\"\n",
    "), row=2, col=3)\n",
    "\n",
    "# Configurar títulos y layout\n",
    "fig.update_layout(\n",
    "    title=\"Características de los Clústeres\",\n",
    "    showlegend=False,\n",
    "    height=800,\n",
    "    width=1200\n",
    ")\n",
    "\n",
    "# Mostrar gráfico interactivo\n",
    "fig.show()\n"
   ]
  },
  {
   "cell_type": "markdown",
   "metadata": {},
   "source": [
    "`Tonelaje vs. Número de Paladas`: Ilustra la relación entre el tonelaje promedio y el número de paladas, mostrando cómo los clústeres de mayor tonelaje tienden a requerir más paladas.\n",
    "\n",
    "`Tonelaje vs. Ciclo Total de Camión`: Indica cómo el tonelaje se relaciona con el ciclo promedio del camión; los clústeres de mayor tonelaje generalmente tienen ciclos más largos.\n",
    "\n",
    "`Tonelaje vs. Distancia Recorrida Lleno`: Muestra que las operaciones de mayor tonelaje también implican mayores distancias recorridas con carga.\n",
    "\n",
    "`Tonelaje vs. Número de Viajes`: Los clústeres más eficientes en tonelaje no necesariamente realizan más viajes, sino que optimizan el tonelaje por cada uno.\n",
    "\n",
    "`Número de Paladas vs. Ciclo Total de Pala`: Relación entre paladas y ciclos de pala, donde una mayor cantidad de paladas parece extender los ciclos.\n",
    "\n",
    "`Ciclo Total de Camión vs. Distancia Recorrida Vacío`: Visualiza cómo los ciclos de los camiones se relacionan con la distancia recorrida sin carga."
   ]
  },
  {
   "cell_type": "code",
   "execution_count": null,
   "metadata": {},
   "outputs": [],
   "source": []
  }
 ],
 "metadata": {
  "kernelspec": {
   "display_name": "Python 3",
   "language": "python",
   "name": "python3"
  },
  "language_info": {
   "codemirror_mode": {
    "name": "ipython",
    "version": 3
   },
   "file_extension": ".py",
   "mimetype": "text/x-python",
   "name": "python",
   "nbconvert_exporter": "python",
   "pygments_lexer": "ipython3",
   "version": "3.10.11"
  }
 },
 "nbformat": 4,
 "nbformat_minor": 2
}
